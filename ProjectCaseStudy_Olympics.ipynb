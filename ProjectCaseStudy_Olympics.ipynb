{
 "cells": [
  {
   "cell_type": "markdown",
   "id": "14d21513",
   "metadata": {},
   "source": [
    "# Project : Case Study Olympics"
   ]
  },
  {
   "cell_type": "markdown",
   "id": "ba40927a",
   "metadata": {},
   "source": [
    "# Link of Dataset: https://drive.google.com/file/d/1GES833H2Au-blbw9RgZf5dujzDpzi_MG/view?usp=sharing"
   ]
  },
  {
   "cell_type": "markdown",
   "id": "bb114091",
   "metadata": {},
   "source": [
    "# Question 1 - Print the shape"
   ]
  },
  {
   "cell_type": "markdown",
   "id": "9d74615a",
   "metadata": {},
   "source": [
    "## In this case study, you are going to explore the Olympic dataset. But before you get insights from the dataset let's understand the dataset. To understand the dataset first read the dataset and print the dataset."
   ]
  },
  {
   "cell_type": "markdown",
   "id": "2ff00c41",
   "metadata": {},
   "source": [
    "# Answer 1"
   ]
  },
  {
   "cell_type": "code",
   "execution_count": 1,
   "id": "8860ac2f",
   "metadata": {},
   "outputs": [
    {
     "name": "stdout",
     "output_type": "stream",
     "text": [
      "(271116, 17)\n"
     ]
    }
   ],
   "source": [
    "import numpy as np\n",
    "import pandas as pd\n",
    "import matplotlib.pyplot as plt\n",
    "a=pd.read_csv('C:\\\\Users\\\\lokes\\\\Downloads\\\\olympics.csv')\n",
    "print(a.shape)"
   ]
  },
  {
   "cell_type": "markdown",
   "id": "d6087ae9",
   "metadata": {},
   "source": [
    "# Question 2 - Describe the Age column"
   ]
  },
  {
   "cell_type": "markdown",
   "id": "40b12558",
   "metadata": {},
   "source": [
    "## Describe the Age column of the dataset on various parameters using describe API."
   ]
  },
  {
   "cell_type": "markdown",
   "id": "74a37ab8",
   "metadata": {},
   "source": [
    "# Answer 2"
   ]
  },
  {
   "cell_type": "code",
   "execution_count": 2,
   "id": "c05ef147",
   "metadata": {},
   "outputs": [
    {
     "name": "stdout",
     "output_type": "stream",
     "text": [
      "count    261642.000000\n",
      "mean         25.556898\n",
      "std           6.393561\n",
      "min          10.000000\n",
      "25%          21.000000\n",
      "50%          24.000000\n",
      "75%          28.000000\n",
      "max          97.000000\n",
      "Name: Age, dtype: float64\n"
     ]
    }
   ],
   "source": [
    "import numpy as np # linear algebra\n",
    "import pandas as pd # data processing, CSV file I/O (e.g. pd.read_csv)\n",
    "import matplotlib.pyplot as plt\n",
    "\n",
    "a = pd.read_csv('C:\\\\Users\\\\lokes\\\\Downloads\\\\olympics.csv')\n",
    "\n",
    "print(a['Age'].describe())"
   ]
  },
  {
   "cell_type": "markdown",
   "id": "8856d723",
   "metadata": {},
   "source": [
    "# Question 3 - Print numeric datatypes"
   ]
  },
  {
   "cell_type": "markdown",
   "id": "14b837ff",
   "metadata": {},
   "source": [
    "## Print the list of columns that have numeric datatypes."
   ]
  },
  {
   "cell_type": "markdown",
   "id": "939363df",
   "metadata": {},
   "source": [
    "# Answer 3"
   ]
  },
  {
   "cell_type": "code",
   "execution_count": 3,
   "id": "dcf4c239",
   "metadata": {
    "scrolled": false
   },
   "outputs": [
    {
     "name": "stdout",
     "output_type": "stream",
     "text": [
      "['ID', 'Age', 'Height', 'Weight', 'Year']\n"
     ]
    }
   ],
   "source": [
    "import numpy as np # linear algebra\n",
    "import pandas as pd # data processing, CSV file I/O (e.g. pd.read_csv)\n",
    "import matplotlib.pyplot as plt\n",
    "\n",
    "olympics = pd.read_csv('C:\\\\Users\\\\lokes\\\\Downloads\\\\olympics.csv')\n",
    "\n",
    "print(olympics.select_dtypes(include=np.number).columns.tolist())"
   ]
  },
  {
   "cell_type": "markdown",
   "id": "bdfbc3d8",
   "metadata": {},
   "source": [
    "# Question 4 - Null values"
   ]
  },
  {
   "cell_type": "markdown",
   "id": "0a46c220",
   "metadata": {},
   "source": [
    "## Print the columns that contain null values along with the count of null values present in each column."
   ]
  },
  {
   "cell_type": "markdown",
   "id": "526e9a89",
   "metadata": {},
   "source": [
    "# Answer 4"
   ]
  },
  {
   "cell_type": "code",
   "execution_count": 4,
   "id": "3cf3caea",
   "metadata": {},
   "outputs": [
    {
     "name": "stdout",
     "output_type": "stream",
     "text": [
      "Age - 9474\n",
      "Height - 60171\n",
      "Weight - 62875\n",
      "Medal - 231333\n",
      "region - 370\n",
      "notes - 266077\n"
     ]
    }
   ],
   "source": [
    "import numpy as np # linear algebra\n",
    "import pandas as pd # data processing, CSV file I/O (e.g. pd.read_csv)\n",
    "import matplotlib.pyplot as plt\n",
    "\n",
    "olympics = pd.read_csv('C:\\\\Users\\\\lokes\\\\Downloads\\\\olympics.csv')\n",
    "\n",
    "for x in olympics.columns:\n",
    "    if olympics[x].isnull().values.ravel().sum() > 0:\n",
    "        print('{} - {}'.format(x,olympics[x].isnull().values.ravel().sum()))"
   ]
  },
  {
   "cell_type": "markdown",
   "id": "b32819b4",
   "metadata": {},
   "source": [
    " # Question 5 - Handling Missing Values"
   ]
  },
  {
   "cell_type": "markdown",
   "id": "7d437697",
   "metadata": {},
   "source": [
    "## Now you need to handle these missing values.\n",
    "## For the columns \"Height, Weight and notes\", you are going to drop these columns as they are not required in our further analysis.\n",
    "## For the \"region\" column, remove all the rows where the region column is having null values.\n",
    "## For output print the shape of the dataset after performing these operations."
   ]
  },
  {
   "cell_type": "markdown",
   "id": "a1e21643",
   "metadata": {},
   "source": [
    "# Answer 5"
   ]
  },
  {
   "cell_type": "code",
   "execution_count": 5,
   "id": "00d19117",
   "metadata": {},
   "outputs": [
    {
     "name": "stdout",
     "output_type": "stream",
     "text": [
      "(270746, 14)\n"
     ]
    }
   ],
   "source": [
    "import numpy as np # linear algebra\n",
    "import pandas as pd # data processing, CSV file I/O (e.g. pd.read_csv)\n",
    "import matplotlib.pyplot as plt\n",
    "\n",
    "olympics = pd.read_csv('C:\\\\Users\\\\lokes\\\\Downloads\\\\olympics.csv')\n",
    "\n",
    "olympics.drop(['Height', 'Weight','notes'], axis = 1,inplace=True)\n",
    "olympics.dropna(subset = ['region'],inplace=True)\n",
    "print(olympics.shape)"
   ]
  },
  {
   "cell_type": "markdown",
   "id": "3125c56b",
   "metadata": {},
   "source": [
    "# Question 6 - Replace missing values"
   ]
  },
  {
   "cell_type": "markdown",
   "id": "9535b824",
   "metadata": {},
   "source": [
    "## Still there are missing values present in the \"Medal\" column.\n",
    "## Let's replace these missing values with 'DNW'. DNW means Did not win"
   ]
  },
  {
   "cell_type": "markdown",
   "id": "43d2215d",
   "metadata": {},
   "source": [
    "# Answer 6"
   ]
  },
  {
   "cell_type": "code",
   "execution_count": 6,
   "id": "b8aef3c3",
   "metadata": {},
   "outputs": [
    {
     "name": "stdout",
     "output_type": "stream",
     "text": [
      "DNW       230972\n",
      "Gold       13371\n",
      "Bronze     13291\n",
      "Silver     13112\n",
      "Name: Medal, dtype: int64\n"
     ]
    }
   ],
   "source": [
    "import numpy as np # linear algebra\n",
    "import pandas as pd # data processing, CSV file I/O (e.g. pd.read_csv)\n",
    "import matplotlib.pyplot as plt\n",
    "\n",
    "olympics = pd.read_csv('C:\\\\Users\\\\lokes\\\\Downloads\\\\olympics.csv')\n",
    "\n",
    "#####################################\n",
    "olympics.drop(columns=[\"notes\", \"Height\", \"Weight\"], inplace=True)\n",
    "\n",
    "olympics = olympics[pd.notnull(olympics['region'])]\n",
    "#####################################\n",
    "\n",
    "olympics['Medal']=olympics['Medal'].fillna('DNW')\n",
    "\n",
    "\n",
    "print(olympics['Medal'].value_counts())"
   ]
  },
  {
   "cell_type": "markdown",
   "id": "8daefb2e",
   "metadata": {},
   "source": [
    "# Question 7 - Handling Missing Values Using Mean"
   ]
  },
  {
   "cell_type": "markdown",
   "id": "78dd1dca",
   "metadata": {},
   "source": [
    "## You have an Age column that contains some null values. Rather than deleting them, fill these missing values by (means of the age of the players belonging to that particular game)."
   ]
  },
  {
   "cell_type": "markdown",
   "id": "ad1228f0",
   "metadata": {},
   "source": [
    "# Answer 7"
   ]
  },
  {
   "cell_type": "code",
   "execution_count": 7,
   "id": "b8e31745",
   "metadata": {},
   "outputs": [
    {
     "name": "stdout",
     "output_type": "stream",
     "text": [
      "26\n"
     ]
    }
   ],
   "source": [
    "import numpy as np # linear algebra\n",
    "import pandas as pd # data processing, CSV file I/O (e.g. pd.read_csv)\n",
    "import matplotlib.pyplot as plt\n",
    "\n",
    "olympics = pd.read_csv('C:\\\\Users\\\\lokes\\\\Downloads\\\\olympics.csv')\n",
    "\n",
    "##########################################\n",
    "##### Missing Values handled till now ####\n",
    "olympics.drop(columns=[\"notes\", \"Height\", \"Weight\"], inplace=True)\n",
    "\n",
    "olympics = olympics[pd.notnull(olympics['region'])]\n",
    "\n",
    "olympics['Medal'].fillna('DNW', inplace = True)\n",
    "############################################\n",
    "\n",
    "mean_age = round(olympics.groupby('Sport')['Age'].mean())\n",
    "\n",
    "age_loc = olympics.loc[olympics.Age.isnull()].index\n",
    "\n",
    "for i in age_loc:\n",
    "  olympics.loc[i, \"Age\"] = mean_age[olympics.loc[i, \"Sport\"]]\n",
    "\n",
    "print(round(olympics.Age.mean()))"
   ]
  },
  {
   "cell_type": "markdown",
   "id": "725588e3",
   "metadata": {},
   "source": [
    "# Question 8 - Probability Distribution of Age"
   ]
  },
  {
   "cell_type": "markdown",
   "id": "423e43be",
   "metadata": {},
   "source": [
    "## Calculate the probability distribution of the Age column.\n",
    "## Firstly plot the line chart to get the idea of the range of probability distribution and then print the maximum probability distribution in the range of 5."
   ]
  },
  {
   "cell_type": "markdown",
   "id": "80733704",
   "metadata": {},
   "source": [
    "# Answer 8"
   ]
  },
  {
   "cell_type": "code",
   "execution_count": 8,
   "id": "cdea73af",
   "metadata": {},
   "outputs": [
    {
     "data": {
      "image/png": "[encoded data removed]",
      "text/plain": [
       "<Figure size 432x288 with 1 Axes>"
      ]
     },
     "metadata": {
      "needs_background": "light"
     },
     "output_type": "display_data"
    },
    {
     "name": "stdout",
     "output_type": "stream",
     "text": [
      "20 to 25\n"
     ]
    }
   ],
   "source": [
    "from scipy.stats import norm\n",
    "import numpy as np # linear algebra\n",
    "import pandas as pd # data processing, CSV file I/O (e.g. pd.read_csv)\n",
    "import matplotlib.pyplot as plt\n",
    "\n",
    "olympics = pd.read_csv('C:\\\\Users\\\\lokes\\\\Downloads\\\\olympics.csv')\n",
    "\n",
    "swimming_age = olympics.loc[(olympics[\"Sport\"] == \"Swimming\") & (olympics[\"Year\"] >= 2000) & (olympics[\"Year\"] <= 2016)][\"Age\"]\n",
    "\n",
    "swimming_age = sorted(swimming_age)\n",
    "\n",
    "mean_swimming_age = np.mean(swimming_age)\n",
    "std_swimming_age = np.std(swimming_age)\n",
    "\n",
    "probability_pdf = norm.pdf(swimming_age, loc=mean_swimming_age, scale=std_swimming_age)\n",
    "\n",
    "plt.plot(swimming_age, probability_pdf)\n",
    "plt.show()\n",
    "\n",
    "print(\"20 to 25\")"
   ]
  },
  {
   "cell_type": "markdown",
   "id": "cbba6fe3",
   "metadata": {},
   "source": [
    "# Question9 - Find Skewness"
   ]
  },
  {
   "cell_type": "markdown",
   "id": "4afdd20a",
   "metadata": {},
   "source": [
    "# Is the overall distribution of Gold Medals tally of India, left or negatively skewed?"
   ]
  },
  {
   "cell_type": "markdown",
   "id": "04bd3aba",
   "metadata": {},
   "source": [
    "# Answer 9"
   ]
  },
  {
   "cell_type": "code",
   "execution_count": 9,
   "id": "b65b6f3a",
   "metadata": {},
   "outputs": [
    {
     "name": "stdout",
     "output_type": "stream",
     "text": [
      "Left Skewed\n"
     ]
    }
   ],
   "source": [
    "import scipy.stats as st\n",
    "import numpy as np # linear algebra\n",
    "import pandas as pd # data processing, CSV file I/O (e.g. pd.read_csv)\n",
    "import matplotlib.pyplot as plt\n",
    "\n",
    "olympics = pd.read_csv('C:\\\\Users\\\\lokes\\\\Downloads\\\\olympics.csv')\n",
    "\n",
    "olympics.rename(columns = {'region':'Country'}, inplace = True)\n",
    "india_medals = olympics.loc[(olympics[\"Country\"] == \"India\") & (olympics[\"Medal\"] == \"Gold\")]\n",
    "gold_count = india_medals.groupby(\"Year\")[\"Medal\"].value_counts()\n",
    "\n",
    "\n",
    "if st.skew(gold_count, bias=False) > 0:\n",
    "  print(\"Right Skewed\")\n",
    "else:\n",
    "  print(\"Left Skewed\")"
   ]
  },
  {
   "cell_type": "markdown",
   "id": "debf068c",
   "metadata": {},
   "source": [
    "# Question 10 - Standard Deviation of Gold Medals"
   ]
  },
  {
   "cell_type": "markdown",
   "id": "7ef7b312",
   "metadata": {},
   "source": [
    "# What is the standard deviation/error of the distribution of gold medals when the UK is hosting the Olympic games and when not hosting the games? (When games are hosted in the UK, the city is London.)"
   ]
  },
  {
   "cell_type": "markdown",
   "id": "1075b42b",
   "metadata": {},
   "source": [
    "# Answer 10"
   ]
  },
  {
   "cell_type": "code",
   "execution_count": 10,
   "id": "da38e219",
   "metadata": {},
   "outputs": [
    {
     "name": "stdout",
     "output_type": "stream",
     "text": [
      "71.97453253292676\n",
      "18.14528124684469\n"
     ]
    }
   ],
   "source": [
    "import statistics\n",
    "\n",
    "import numpy as np # linear algebra\n",
    "import pandas as pd # data processing, CSV file I/O (e.g. pd.read_csv)\n",
    "import matplotlib.pyplot as plt\n",
    "\n",
    "olympics = pd.read_csv('C:\\\\Users\\\\lokes\\\\Downloads\\\\olympics.csv')\n",
    "\n",
    "london_medals_host = olympics.loc[(olympics[\"City\"] == \"London\") & (olympics[\"region\"] == \"UK\") & (olympics[\"Medal\"] == \"Gold\")]\n",
    "\n",
    "gold_count_host = london_medals_host.groupby(\"Year\")[\"Medal\"].value_counts()\n",
    "\n",
    "london_medals_non_host = olympics.loc[(olympics[\"City\"] != \"London\") & (olympics[\"region\"] == \"UK\") & (olympics[\"Medal\"] == \"Gold\")]\n",
    "\n",
    "gold_count_non_host = london_medals_non_host.groupby(\"Year\")[\"Medal\"].value_counts()\n",
    "\n",
    "host_stdev = statistics.stdev(gold_count_host)\n",
    "\n",
    "non_host_stdev = statistics.stdev(gold_count_non_host)\n",
    "\n",
    "print(host_stdev)\n",
    "print(non_host_stdev)"
   ]
  },
  {
   "cell_type": "markdown",
   "id": "5e3cb1c2",
   "metadata": {},
   "source": [
    "# Question 11 - Standardize the Data"
   ]
  },
  {
   "cell_type": "markdown",
   "id": "e4d1be3b",
   "metadata": {},
   "source": [
    "## Standardise the age of all the participants participating in the Shooting Competition and calculate this standardised data's mean and standard deviation."
   ]
  },
  {
   "cell_type": "markdown",
   "id": "6cf0eaef",
   "metadata": {},
   "source": [
    "# Answer 11"
   ]
  },
  {
   "cell_type": "code",
   "execution_count": 14,
   "id": "6f55f98d",
   "metadata": {},
   "outputs": [
    {
     "name": "stdout",
     "output_type": "stream",
     "text": [
      "0.0008067285381274306\n",
      "0.0\n"
     ]
    }
   ],
   "source": [
    "import statistics\n",
    "\n",
    "import numpy as np # linear algebra\n",
    "import pandas as pd # data processing, CSV file I/O (e.g. pd.read_csv)\n",
    "import matplotlib.pyplot as plt\n",
    "import math\n",
    "\n",
    "olympics = pd.read_csv('C:\\\\Users\\\\lokes\\\\Downloads\\\\olympics.csv')\n",
    "shooting = olympics[olympics['Sport'] == 'Shooting']\n",
    "age = shooting['Age']\n",
    "size = age.value_counts().sum()\n",
    "std_age = np.std(age)\n",
    "s_size = math.sqrt(size)\n",
    "s_age = std_age/size\n",
    "print(s_age.mean())\n",
    "print(np.std(s_age))"
   ]
  },
  {
   "cell_type": "markdown",
   "id": "6296f0d6",
   "metadata": {},
   "source": [
    "# Question 12 - Correlation analysis"
   ]
  },
  {
   "cell_type": "markdown",
   "id": "e283d452",
   "metadata": {},
   "source": [
    "## Is Age positively correlated or negatively correlated with winning the medal?"
   ]
  },
  {
   "cell_type": "markdown",
   "id": "81539f49",
   "metadata": {},
   "source": [
    "# Answer 12"
   ]
  },
  {
   "cell_type": "code",
   "execution_count": 13,
   "id": "c4036fc3",
   "metadata": {},
   "outputs": [
    {
     "name": "stdout",
     "output_type": "stream",
     "text": [
      "Positive\n"
     ]
    }
   ],
   "source": [
    "import statistics\n",
    "\n",
    "import numpy as np # linear algebra\n",
    "import pandas as pd # data processing, CSV file I/O (e.g. pd.read_csv)\n",
    "import matplotlib.pyplot as plt\n",
    "\n",
    "olympics = pd.read_csv('C:\\\\Users\\\\lokes\\\\Downloads\\\\olympics.csv')\n",
    "\n",
    "labels, categories = pd.factorize(olympics[\"Medal\"])\n",
    "olympics[\"medal_labels\"] = labels\n",
    "\n",
    "if olympics[\"Age\"].corr(olympics[\"medal_labels\"]) > 0:\n",
    "    print(\"Positive\")\n",
    "    \n",
    "else:\n",
    "    print(\"Negative\")"
   ]
  },
  {
   "cell_type": "markdown",
   "id": "475cbd1d",
   "metadata": {},
   "source": [
    "# Question 13 - Calculate IQR"
   ]
  },
  {
   "cell_type": "markdown",
   "id": "1e2efb64",
   "metadata": {},
   "source": [
    "## From the dataset, Calculate the IQR for the Age column."
   ]
  },
  {
   "cell_type": "markdown",
   "id": "b0db8e27",
   "metadata": {},
   "source": [
    "# Answer 13"
   ]
  },
  {
   "cell_type": "code",
   "execution_count": 22,
   "id": "41ad7480",
   "metadata": {},
   "outputs": [
    {
     "name": "stdout",
     "output_type": "stream",
     "text": [
      "7.0\n"
     ]
    }
   ],
   "source": [
    "import statistics\n",
    "\n",
    "import numpy as np # linear algebra\n",
    "import pandas as pd # data processing, CSV file I/O (e.g. pd.read_csv)\n",
    "import matplotlib.pyplot as plt\n",
    "\n",
    "olympics = pd.read_csv('C:\\\\Users\\\\lokes\\\\Downloads\\\\olympics.csv')\n",
    "olympics.dropna(subset = ['Age'],inplace=True)\n",
    "age_iqr = list(olympics[\"Age\"])\n",
    "\n",
    "Q1 = np.percentile(age_iqr, 25)\n",
    "\n",
    "# Third quartile (Q3)\n",
    "Q3 = np.percentile(age_iqr, 75)\n",
    "  \n",
    "# Interquaritle range (IQR)\n",
    "IQR = Q3 - Q1\n",
    "  \n",
    "print(IQR)"
   ]
  },
  {
   "cell_type": "markdown",
   "id": "49be09b2",
   "metadata": {},
   "source": [
    "# Question 14 - Summer olympics hosted"
   ]
  },
  {
   "cell_type": "markdown",
   "id": "4e47b392",
   "metadata": {},
   "source": [
    "## In how many cities Summer Olympics been held so far?\n",
    "## Also create a bar graph of the number of times cities hosted olympics"
   ]
  },
  {
   "cell_type": "markdown",
   "id": "7401093f",
   "metadata": {},
   "source": [
    "# Answer 14"
   ]
  },
  {
   "cell_type": "code",
   "execution_count": 24,
   "id": "0b236a68",
   "metadata": {},
   "outputs": [
    {
     "data": {
      "image/png": "[encoded data removed]",
      "text/plain": [
       "<Figure size 1080x360 with 1 Axes>"
      ]
     },
     "metadata": {
      "needs_background": "light"
     },
     "output_type": "display_data"
    },
    {
     "name": "stdout",
     "output_type": "stream",
     "text": [
      "Total number of cities :  42\n"
     ]
    }
   ],
   "source": [
    "import numpy as np # linear algebra\n",
    "import pandas as pd # data processing, CSV file I/O (e.g. pd.read_csv)\n",
    "import matplotlib.pyplot as plt\n",
    "\n",
    "olympics = pd.read_csv('C:\\\\Users\\\\lokes\\\\Downloads\\\\olympics.csv')\n",
    "\n",
    "data = []\n",
    "\n",
    "for city in olympics['City'].unique():\n",
    "    host_count = 0\n",
    "    for year in olympics['Year'].unique():\n",
    "        if len(olympics[(olympics['City'] == city) & (olympics['Year'] == year)]) > 0:\n",
    "            host_count += 1\n",
    "    data.append([city, host_count])\n",
    "\n",
    "plot_data = pd.DataFrame(data,columns = ['City','No. of times hosted']).sort_values(by='No. of times hosted', ascending = False)\n",
    "plot_data.plot(x = 'City', y = 'No. of times hosted', kind = 'bar', figsize = (15,5))\n",
    "plt.show()\n",
    "\n",
    "Total_cities = len(olympics['City'].unique())\n",
    "print(\"Total number of cities : \",Total_cities)"
   ]
  },
  {
   "cell_type": "markdown",
   "id": "d192d9f6",
   "metadata": {},
   "source": [
    "# Question 15 - Most number of medals"
   ]
  },
  {
   "cell_type": "markdown",
   "id": "dfcf1306",
   "metadata": {},
   "source": [
    "## Which sport is having the most number of medals so far?\n",
    "## First plot the bar chart to find out the top 5 sports that have the most number of medals and then print the sport having the highest medals."
   ]
  },
  {
   "cell_type": "markdown",
   "id": "2f9c0622",
   "metadata": {},
   "source": [
    "# Answer 15"
   ]
  },
  {
   "cell_type": "code",
   "execution_count": 25,
   "id": "e62741b4",
   "metadata": {},
   "outputs": [
    {
     "data": {
      "image/png": "[encoded data removed]",
      "text/plain": [
       "<Figure size 720x360 with 1 Axes>"
      ]
     },
     "metadata": {
      "needs_background": "light"
     },
     "output_type": "display_data"
    },
    {
     "name": "stdout",
     "output_type": "stream",
     "text": [
      "Athletics\n"
     ]
    }
   ],
   "source": [
    "import numpy as np # linear algebra\n",
    "import pandas as pd # data processing, CSV file I/O (e.g. pd.read_csv)\n",
    "import matplotlib.pyplot as plt\n",
    "\n",
    "olympics = pd.read_csv('C:\\\\Users\\\\lokes\\\\Downloads\\\\olympics.csv')\n",
    "\n",
    "olympics.groupby('Sport').count()[\"Medal\"].sort_values(ascending = False).head().plot.bar(figsize = (10, 5))\n",
    "plt.show()\n",
    "\n",
    "print(\"Athletics\")"
   ]
  },
  {
   "cell_type": "markdown",
   "id": "e76a26cb",
   "metadata": {},
   "source": [
    "# Question 16 - Most number of Gold medals"
   ]
  },
  {
   "cell_type": "markdown",
   "id": "a16fada8",
   "metadata": {},
   "source": [
    "## Which Sport has the most number of Gold Medals so far?\n",
    "## First plot the bar chart to find out the top 5 sports that have the most number Gold of medals and then print the sport having the highest number of Gold medals."
   ]
  },
  {
   "cell_type": "markdown",
   "id": "137fef54",
   "metadata": {},
   "source": [
    "# Answer 16"
   ]
  },
  {
   "cell_type": "code",
   "execution_count": 26,
   "id": "310c06ee",
   "metadata": {},
   "outputs": [
    {
     "data": {
      "image/png": "[encoded data removed]",
      "text/plain": [
       "<Figure size 720x360 with 1 Axes>"
      ]
     },
     "metadata": {
      "needs_background": "light"
     },
     "output_type": "display_data"
    },
    {
     "name": "stdout",
     "output_type": "stream",
     "text": [
      "Athletics\n"
     ]
    }
   ],
   "source": [
    "import numpy as np # linear algebra\n",
    "import pandas as pd # data processing, CSV file I/O (e.g. pd.read_csv)\n",
    "import matplotlib.pyplot as plt\n",
    "\n",
    "olympics = pd.read_csv('C:\\\\Users\\\\lokes\\\\Downloads\\\\olympics.csv')\n",
    "\n",
    "gold = olympics[olympics['Medal'] == 'Gold']\n",
    "\n",
    "data = []\n",
    "for sport in gold['Sport'].unique():\n",
    "    data.append([sport, len(gold[gold['Sport'] == sport])])\n",
    "\n",
    "data = pd.DataFrame(data, columns = ['Sport', 'Gold']).sort_values(by='Gold', ascending = False).head()\n",
    "data.plot(x='Sport', y='Gold', kind='bar', figsize=(10,5))\n",
    "plt.show()\n",
    "\n",
    "print(\"Athletics\")"
   ]
  },
  {
   "cell_type": "markdown",
   "id": "f16304a5",
   "metadata": {},
   "source": [
    "# Question 17 - India First Gold Medal"
   ]
  },
  {
   "cell_type": "markdown",
   "id": "9ca289bf",
   "metadata": {},
   "source": [
    "## In which year did India win the first Gold Medal in the Olympics?"
   ]
  },
  {
   "cell_type": "markdown",
   "id": "301b53cc",
   "metadata": {},
   "source": [
    "# Answer 17"
   ]
  },
  {
   "cell_type": "code",
   "execution_count": 27,
   "id": "2a7352ab",
   "metadata": {},
   "outputs": [
    {
     "name": "stdout",
     "output_type": "stream",
     "text": [
      "1924\n"
     ]
    }
   ],
   "source": [
    "import numpy as np # linear algebra\n",
    "import pandas as pd # data processing, CSV file I/O (e.g. pd.read_csv)\n",
    "import matplotlib.pyplot as plt\n",
    "\n",
    "olympics = pd.read_csv('C:\\\\Users\\\\lokes\\\\Downloads\\\\olympics.csv')\n",
    "\n",
    "gold = olympics[olympics['Medal'] == 'Gold']\n",
    "print(gold[gold['region'] == 'India']['Year'].min())"
   ]
  },
  {
   "cell_type": "markdown",
   "id": "760d73c4",
   "metadata": {},
   "source": [
    "# Question 18 - Most Popular Event"
   ]
  },
  {
   "cell_type": "markdown",
   "id": "c2b2a995",
   "metadata": {},
   "source": [
    "## Which event is most popular in terms of the number of players?\n",
    "## First plot the bar chart to find out the top 5 sports that have the most number of participants and then print the sport having the highest number of players participating."
   ]
  },
  {
   "cell_type": "markdown",
   "id": "2d3a0628",
   "metadata": {},
   "source": [
    "# Answer 18"
   ]
  },
  {
   "cell_type": "code",
   "execution_count": 28,
   "id": "611bc372",
   "metadata": {},
   "outputs": [
    {
     "data": {
      "image/png": "[encoded data removed]",
      "text/plain": [
       "<Figure size 720x360 with 1 Axes>"
      ]
     },
     "metadata": {
      "needs_background": "light"
     },
     "output_type": "display_data"
    },
    {
     "name": "stdout",
     "output_type": "stream",
     "text": [
      "Football Men's Football\n"
     ]
    }
   ],
   "source": [
    "import numpy as np # linear algebra\n",
    "import pandas as pd # data processing, CSV file I/O (e.g. pd.read_csv)\n",
    "import matplotlib.pyplot as plt\n",
    "\n",
    "olympics = pd.read_csv('C:\\\\Users\\\\lokes\\\\Downloads\\\\olympics.csv')\n",
    "\n",
    "popular_event = olympics.groupby(\"Event\").count()['Name'].sort_values(ascending = False).head().plot.bar(figsize=(10, 5))\n",
    "plt.show()\n",
    "\n",
    "print(\"Football Men's Football\")"
   ]
  },
  {
   "cell_type": "markdown",
   "id": "17375958",
   "metadata": {},
   "source": [
    "# Question 19 - Most Female Gold Medalists"
   ]
  },
  {
   "cell_type": "markdown",
   "id": "73f627d0",
   "metadata": {},
   "source": [
    "## Which sport is having the most female Gold Medalists?\n",
    "## First plot the bar chart to find out the top 5 sports that have the most female Gold Medalists and then print the sport having the most female Gold Medalists."
   ]
  },
  {
   "cell_type": "markdown",
   "id": "28278517",
   "metadata": {},
   "source": [
    "# Answer 19"
   ]
  },
  {
   "cell_type": "code",
   "execution_count": 29,
   "id": "85c6707d",
   "metadata": {},
   "outputs": [
    {
     "data": {
      "image/png": "[encoded data removed]",
      "text/plain": [
       "<Figure size 720x360 with 1 Axes>"
      ]
     },
     "metadata": {
      "needs_background": "light"
     },
     "output_type": "display_data"
    },
    {
     "name": "stdout",
     "output_type": "stream",
     "text": [
      "Swimming\n"
     ]
    }
   ],
   "source": [
    "import numpy as np # linear algebra\n",
    "import pandas as pd # data processing, CSV file I/O (e.g. pd.read_csv)\n",
    "import matplotlib.pyplot as plt\n",
    "\n",
    "olympics = pd.read_csv('C:\\\\Users\\\\lokes\\\\Downloads\\\\olympics.csv')\n",
    "\n",
    "gold = olympics[olympics['Medal'] == 'Gold']\n",
    "gold_female = gold[gold['Sex'] == 'F']\n",
    "\n",
    "data = []\n",
    "for sport in gold_female['Sport'].unique():\n",
    "    data.append([sport, len(gold_female[gold_female['Sport']== sport])])\n",
    "    \n",
    "data = pd.DataFrame(data, columns=['Sport', 'GoldFemale']).sort_values(by = 'GoldFemale', ascending = False).head()\n",
    "data.plot(x='Sport', y='GoldFemale', kind='bar', figsize=(10,5))\n",
    "plt.show()\n",
    "\n",
    "print(\"Swimming\")"
   ]
  },
  {
   "cell_type": "code",
   "execution_count": null,
   "id": "fb5680aa",
   "metadata": {},
   "outputs": [],
   "source": []
  }
 ],
 "metadata": {
  "kernelspec": {
   "display_name": "Python 3 (ipykernel)",
   "language": "python",
   "name": "python3"
  },
  "language_info": {
   "codemirror_mode": {
    "name": "ipython",
    "version": 3
   },
   "file_extension": ".py",
   "mimetype": "text/x-python",
   "name": "python",
   "nbconvert_exporter": "python",
   "pygments_lexer": "ipython3",
   "version": "3.10.4"
  }
 },
 "nbformat": 4,
 "nbformat_minor": 5
}
